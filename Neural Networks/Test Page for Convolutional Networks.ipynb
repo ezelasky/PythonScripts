{
 "cells": [
  {
   "cell_type": "code",
   "execution_count": 1,
   "metadata": {
    "collapsed": true
   },
   "outputs": [],
   "source": [
    "import numpy as np"
   ]
  },
  {
   "cell_type": "code",
   "execution_count": 8,
   "metadata": {},
   "outputs": [
    {
     "data": {
      "text/plain": [
       "array([[[[ 1.62434536, -0.61175641],\n",
       "         [-0.52817175, -1.07296862],\n",
       "         [ 0.86540763, -2.3015387 ]],\n",
       "\n",
       "        [[ 1.74481176, -0.7612069 ],\n",
       "         [ 0.3190391 , -0.24937038],\n",
       "         [ 1.46210794, -2.06014071]],\n",
       "\n",
       "        [[-0.3224172 , -0.38405435],\n",
       "         [ 1.13376944, -1.09989127],\n",
       "         [-0.17242821, -0.87785842]]],\n",
       "\n",
       "\n",
       "       [[[ 0.04221375,  0.58281521],\n",
       "         [-1.10061918,  1.14472371],\n",
       "         [ 0.90159072,  0.50249434]],\n",
       "\n",
       "        [[ 0.90085595, -0.68372786],\n",
       "         [-0.12289023, -0.93576943],\n",
       "         [-0.26788808,  0.53035547]],\n",
       "\n",
       "        [[-0.69166075, -0.39675353],\n",
       "         [-0.6871727 , -0.84520564],\n",
       "         [-0.67124613, -0.0126646 ]]],\n",
       "\n",
       "\n",
       "       [[[-1.11731035,  0.2344157 ],\n",
       "         [ 1.65980218,  0.74204416],\n",
       "         [-0.19183555, -0.88762896]],\n",
       "\n",
       "        [[-0.74715829,  1.6924546 ],\n",
       "         [ 0.05080775, -0.63699565],\n",
       "         [ 0.19091548,  2.10025514]],\n",
       "\n",
       "        [[ 0.12015895,  0.61720311],\n",
       "         [ 0.30017032, -0.35224985],\n",
       "         [-1.1425182 , -0.34934272]]],\n",
       "\n",
       "\n",
       "       [[[-0.20889423,  0.58662319],\n",
       "         [ 0.83898341,  0.93110208],\n",
       "         [ 0.28558733,  0.88514116]],\n",
       "\n",
       "        [[-0.75439794,  1.25286816],\n",
       "         [ 0.51292982, -0.29809284],\n",
       "         [ 0.48851815, -0.07557171]],\n",
       "\n",
       "        [[ 1.13162939,  1.51981682],\n",
       "         [ 2.18557541, -1.39649634],\n",
       "         [-1.44411381, -0.50446586]]]])"
      ]
     },
     "execution_count": 8,
     "metadata": {},
     "output_type": "execute_result"
    }
   ],
   "source": [
    "np.random.seed(1)\n",
    "x = np.random.randn(4, 3, 3, 2)\n",
    "x.shape\n",
    "x"
   ]
  },
  {
   "cell_type": "code",
   "execution_count": 24,
   "metadata": {},
   "outputs": [
    {
     "data": {
      "text/plain": [
       "(2, 3, 3, 2)"
      ]
     },
     "execution_count": 24,
     "metadata": {},
     "output_type": "execute_result"
    }
   ],
   "source": [
    "y = np.zeros((3,2))\n",
    "y\n",
    "x = np.random.randn(2,3, 3, 2)"
   ]
  },
  {
   "cell_type": "code",
   "execution_count": 34,
   "metadata": {},
   "outputs": [
    {
     "data": {
      "text/plain": [
       "array([[[ 1.62434536, -0.61175641, -0.52817175],\n",
       "        [-1.07296862,  0.86540763, -2.3015387 ],\n",
       "        [ 1.74481176, -0.7612069 ,  0.3190391 ],\n",
       "        [-0.24937038,  1.46210794, -2.06014071]],\n",
       "\n",
       "       [[-0.3224172 , -0.38405435,  1.13376944],\n",
       "        [-1.09989127, -0.17242821, -0.87785842],\n",
       "        [ 0.04221375,  0.58281521, -1.10061918],\n",
       "        [ 1.14472371,  0.90159072,  0.50249434]],\n",
       "\n",
       "       [[ 0.90085595, -0.68372786, -0.12289023],\n",
       "        [-0.93576943, -0.26788808,  0.53035547],\n",
       "        [-0.69166075, -0.39675353, -0.6871727 ],\n",
       "        [-0.84520564, -0.67124613, -0.0126646 ]],\n",
       "\n",
       "       [[-1.11731035,  0.2344157 ,  1.65980218],\n",
       "        [ 0.74204416, -0.19183555, -0.88762896],\n",
       "        [-0.74715829,  1.6924546 ,  0.05080775],\n",
       "        [-0.63699565,  0.19091548,  2.10025514]]])"
      ]
     },
     "execution_count": 34,
     "metadata": {},
     "output_type": "execute_result"
    }
   ],
   "source": [
    "np.random.seed(1)\n",
    "A_prev = np.random.randn(2,4,4,3)\n",
    "A_prev[0]\n",
    "#A_prev.shape[0]"
   ]
  },
  {
   "cell_type": "code",
   "execution_count": 33,
   "metadata": {},
   "outputs": [
    {
     "data": {
      "text/plain": [
       "2"
      ]
     },
     "execution_count": 33,
     "metadata": {},
     "output_type": "execute_result"
    }
   ],
   "source": [
    "A_prev.shape[0]"
   ]
  },
  {
   "cell_type": "code",
   "execution_count": 88,
   "metadata": {},
   "outputs": [],
   "source": [
    "def zero_pad(X, pad):\n",
    "    \"\"\"\n",
    "    Pad with zeros all images of the dataset X. The padding is applied to the height and width of an image, \n",
    "    as illustrated in Figure 1.\n",
    "    \n",
    "    Argument:\n",
    "    X -- python numpy array of shape (m, n_H, n_W, n_C) representing a batch of m images\n",
    "    pad -- integer, amount of padding around each image on vertical and horizontal dimensions\n",
    "    \n",
    "    Returns:\n",
    "    X_pad -- padded image of shape (m, n_H + 2*pad, n_W + 2*pad, n_C)\n",
    "    \"\"\"\n",
    "    \n",
    "    ### START CODE HERE ### (≈ 1 line)\n",
    "    X_pad = np.pad(X, ((0,0), (pad, pad), (pad,pad), (0,0)), 'constant', constant_values=(0, 0))\n",
    "    ### END CODE HERE ###\n",
    "    \n",
    "    return X_pad\n",
    "\n",
    "# GRADED FUNCTION: conv_forward\n",
    "\n",
    "def conv_forward(A_prev, W, b, hparameters):\n",
    "    \"\"\"\n",
    "    Implements the forward propagation for a convolution function\n",
    "    \n",
    "    Arguments:\n",
    "    A_prev -- output activations of the previous layer, numpy array of shape (m, n_H_prev, n_W_prev, n_C_prev)\n",
    "    W -- Weights, numpy array of shape (f, f, n_C_prev, n_C)\n",
    "    b -- Biases, numpy array of shape (1, 1, 1, n_C)\n",
    "    hparameters -- python dictionary containing \"stride\" and \"pad\"\n",
    "        \n",
    "    Returns:\n",
    "    Z -- conv output, numpy array of shape (m, n_H, n_W, n_C)\n",
    "    cache -- cache of values needed for the conv_backward() function\n",
    "    \"\"\"\n",
    "    \n",
    "    ### START CODE HERE ###\n",
    "    # Retrieve dimensions from A_prev's shape (≈1 line)  \n",
    "    (m, n_H_prev, n_W_prev, n_C_prev) = A_prev.shape\n",
    "    \n",
    "    # Retrieve dimensions from W's shape (≈1 line)\n",
    "    (f, f, n_C_prev, n_C) = W.shape\n",
    "    \n",
    "    # Retrieve information from \"hparameters\" (≈2 lines)\n",
    "    stride = hparameters[\"stride\"]\n",
    "    pad = hparameters[\"pad\"]\n",
    "    \n",
    "    # Compute the dimensions of the CONV output volume using the formula given above. Hint: use int() to floor. (≈2 lines)\n",
    "    n_H = int(((n_H_prev - f + 2 * pad) / (stride)) + 1)\n",
    "    n_W = int(((n_W_prev - f + 2 * pad) / (stride)) + 1)\n",
    "    \n",
    "    # Initialize the output volume Z with zeros. (≈1 line)\n",
    "    Z = np.zeros((m, n_H_prev, n_W_prev, n_C_prev))\n",
    "    \n",
    "    # Create A_prev_pad by padding A_prev\n",
    "    A_prev_pad = zero_pad(A_prev, pad)\n",
    "    \n",
    "    for i in range(m):                               # loop over the batch of training examples\n",
    "        a_prev_pad = A_prev_pad[i,:,:,:]                   # Select ith training example's padded activation\n",
    "        for h in range(n_H_prev):                           # loop over vertical axis of the output volume\n",
    "            for w in range(n_W_prev):                       # loop over horizontal axis of the output volume\n",
    "                for c in range(n_C_prev):                   # loop over channels (= #filters) of the output volume\n",
    "                    \n",
    "                    # Find the corners of the current \"slice\" (≈4 lines)\n",
    "                    vert_start = h * stride\n",
    "                    vert_end = h * stride + f\n",
    "                    horiz_start = w * stride\n",
    "                    horiz_end = w * stride + f\n",
    "                    \n",
    "                    # Use the corners to define the (3D) slice of a_prev_pad (See Hint above the cell). (≈1 line)\n",
    "                    a_slice = A_prev_pad[vert_start:vert_end, horiz_start:horiz_end, :]\n",
    "                    \n",
    "                    # Convolve the (3D) slice with the correct filter W and bias b, to get back one output neuron. (≈1 line)\n",
    "                    Z[i, h, w, c] = conv_single_step(a_slice, W[:,:,:,c], b[:,:,:,c])\n",
    "                                        \n",
    "    ### END CODE HERE ###\n",
    "    \n",
    "    # Making sure your output shape is correct\n",
    "    assert(Z.shape == (m, n_H, n_W, n_C))\n",
    "    \n",
    "    # Save information in \"cache\" for the backprop\n",
    "    cache = (A_prev, W, b, hparameters)\n",
    "    \n",
    "    return Z, cache"
   ]
  },
  {
   "cell_type": "code",
   "execution_count": 85,
   "metadata": {
    "collapsed": true
   },
   "outputs": [],
   "source": [
    "np.random.seed(1)\n",
    "A_prev = np.random.randn(1,4,4,3)\n",
    "W = np.random.randn(2,2,3,8)\n",
    "b = np.random.randn(1,1,1,8)\n",
    "hparameters = {\"pad\" : 2,\n",
    "               \"stride\": 2}\n",
    "\n",
    "#A_prev_pad = conv_forward(A_prev, W, b, hparameters)"
   ]
  },
  {
   "cell_type": "code",
   "execution_count": 86,
   "metadata": {},
   "outputs": [
    {
     "data": {
      "text/plain": [
       "(1, 4, 4, 3)"
      ]
     },
     "execution_count": 86,
     "metadata": {},
     "output_type": "execute_result"
    }
   ],
   "source": [
    "A_prev.shape"
   ]
  },
  {
   "cell_type": "code",
   "execution_count": 87,
   "metadata": {},
   "outputs": [
    {
     "data": {
      "text/plain": [
       "array([[[[ 1.62434536, -0.61175641, -0.52817175],\n",
       "         [-1.07296862,  0.86540763, -2.3015387 ],\n",
       "         [ 1.74481176, -0.7612069 ,  0.3190391 ],\n",
       "         [-0.24937038,  1.46210794, -2.06014071]],\n",
       "\n",
       "        [[-0.3224172 , -0.38405435,  1.13376944],\n",
       "         [-1.09989127, -0.17242821, -0.87785842],\n",
       "         [ 0.04221375,  0.58281521, -1.10061918],\n",
       "         [ 1.14472371,  0.90159072,  0.50249434]],\n",
       "\n",
       "        [[ 0.90085595, -0.68372786, -0.12289023],\n",
       "         [-0.93576943, -0.26788808,  0.53035547],\n",
       "         [-0.69166075, -0.39675353, -0.6871727 ],\n",
       "         [-0.84520564, -0.67124613, -0.0126646 ]],\n",
       "\n",
       "        [[-1.11731035,  0.2344157 ,  1.65980218],\n",
       "         [ 0.74204416, -0.19183555, -0.88762896],\n",
       "         [-0.74715829,  1.6924546 ,  0.05080775],\n",
       "         [-0.63699565,  0.19091548,  2.10025514]]]])"
      ]
     },
     "execution_count": 87,
     "metadata": {},
     "output_type": "execute_result"
    }
   ],
   "source": [
    "A_prev"
   ]
  },
  {
   "cell_type": "code",
   "execution_count": 81,
   "metadata": {},
   "outputs": [
    {
     "data": {
      "text/plain": [
       "(2, 2, 3, 8)"
      ]
     },
     "execution_count": 81,
     "metadata": {},
     "output_type": "execute_result"
    }
   ],
   "source": [
    "W.shape"
   ]
  },
  {
   "cell_type": "code",
   "execution_count": 82,
   "metadata": {},
   "outputs": [
    {
     "data": {
      "text/plain": [
       "array([[[[ 0.5154138 , -1.11487105, -0.76730983,  0.67457071,  1.46089238,\n",
       "           0.5924728 ,  1.19783084,  1.70459417],\n",
       "         [ 1.04008915, -0.91844004, -0.10534471,  0.63019567, -0.4148469 ,\n",
       "           0.45194604, -1.57915629, -0.82862798],\n",
       "         [ 0.52887975, -2.23708651, -1.1077125 , -0.01771832, -1.71939447,\n",
       "           0.057121  , -0.79954749, -0.2915946 ]],\n",
       "\n",
       "        [[-0.25898285,  0.1892932 , -0.56378873,  0.08968641, -0.6011568 ,\n",
       "           0.55607351,  1.69380911,  0.19686978],\n",
       "         [ 0.16986926, -1.16400797,  0.69336623, -0.75806733, -0.8088472 ,\n",
       "           0.55743945,  0.18103874,  1.10717545],\n",
       "         [ 1.44287693, -0.53968156,  0.12837699,  1.76041518,  0.96653925,\n",
       "           0.71304905,  1.30620607, -0.60460297]]],\n",
       "\n",
       "\n",
       "       [[[ 0.63658341,  1.40925339,  1.62091229, -0.80618482, -0.25167421,\n",
       "           0.38271517, -0.28899734, -0.39181624],\n",
       "         [ 0.68400133, -0.35340998, -1.78791289,  0.36184732, -0.42449279,\n",
       "          -0.73153098, -1.56573815,  1.01382247],\n",
       "         [-2.22711263, -1.6993336 , -0.27584606,  1.22895559,  1.30970591,\n",
       "          -1.15498263, -0.1776322 , -1.51045638]],\n",
       "\n",
       "        [[ 1.01120706, -1.47656266, -0.14319575,  1.03298378, -0.22241403,\n",
       "           1.47016034, -0.87000822,  0.36919047],\n",
       "         [ 0.85328219, -0.13971173,  1.38631426,  0.54812958, -1.63744959,\n",
       "           3.9586027 ,  0.64864364,  0.10734329],\n",
       "         [-1.39881282,  0.08176782, -0.45994283,  0.64435367,  0.37167029,\n",
       "           1.85300949,  0.14225137,  0.51350548]]]])"
      ]
     },
     "execution_count": 82,
     "metadata": {},
     "output_type": "execute_result"
    }
   ],
   "source": [
    "\n",
    "W\n"
   ]
  }
 ],
 "metadata": {
  "kernelspec": {
   "display_name": "Python 3",
   "language": "python",
   "name": "python3"
  },
  "language_info": {
   "codemirror_mode": {
    "name": "ipython",
    "version": 3
   },
   "file_extension": ".py",
   "mimetype": "text/x-python",
   "name": "python",
   "nbconvert_exporter": "python",
   "pygments_lexer": "ipython3",
   "version": "3.6.1"
  }
 },
 "nbformat": 4,
 "nbformat_minor": 2
}
